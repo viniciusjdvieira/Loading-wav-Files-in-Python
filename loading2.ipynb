{
 "cells": [
  {
   "attachments": {},
   "cell_type": "markdown",
   "metadata": {},
   "source": [
    "### Importing files in sequence\n",
    "In this case, files have the same prefix word.\n",
    "\n",
    "The suffix word is the file index number."
   ]
  },
  {
   "attachments": {},
   "cell_type": "markdown",
   "metadata": {},
   "source": [
    "### Ask the user to set the prefix word and the amount of signals:"
   ]
  },
  {
   "cell_type": "code",
   "execution_count": 10,
   "metadata": {},
   "outputs": [
    {
     "name": "stdout",
     "output_type": "stream",
     "text": [
      "Openning file... ./sequenced-wav-files/ang1.wav\n",
      "Openning file... ./sequenced-wav-files/ang2.wav\n",
      "Openning file... ./sequenced-wav-files/ang3.wav\n",
      "Openning file... ./sequenced-wav-files/ang4.wav\n",
      "Openning file... ./sequenced-wav-files/ang5.wav\n",
      "Openning file... ./sequenced-wav-files/ang6.wav\n",
      "Openning file... ./sequenced-wav-files/ang7.wav\n",
      "Openning file... ./sequenced-wav-files/ang8.wav\n",
      "Openning file... ./sequenced-wav-files/ang9.wav\n",
      "Openning file... ./sequenced-wav-files/ang10.wav\n"
     ]
    }
   ],
   "source": [
    "import numpy as np\n",
    "import soundfile as sf\n",
    "\n",
    "amnt_sf = input('How many signals to process? ')\n",
    "amnt_sf = int(amnt_sf)\n",
    "prefix_word = input('Type the prefix word of the signals: ')\n",
    "path = './sequenced-wav-files/'\n",
    "\n",
    "for i in np.arange(amnt_sf):\n",
    "    file_in = path+prefix_word+str(i+1)+'.wav'\n",
    "    print('Openning file...', file_in)\n",
    "    data_sf, sr_sf = sf.read(file_in)\n",
    "    duration_sf = len(data_sf)/sr_sf # for information\n",
    "    # print('File: %s \\nSampling Rate: %d Hz \\nDuration: %4.4f s \\n\\n' % (prefix_word+str(i+1), sr_sf, duration_sf))  \n"
   ]
  },
  {
   "attachments": {},
   "cell_type": "markdown",
   "metadata": {},
   "source": [
    "### Setting the amount of signals and the prefix word in the code:"
   ]
  },
  {
   "cell_type": "code",
   "execution_count": 11,
   "metadata": {},
   "outputs": [
    {
     "name": "stdout",
     "output_type": "stream",
     "text": [
      "Openning file... ./sequenced-wav-files/ang1.wav\n",
      "Openning file... ./sequenced-wav-files/ang2.wav\n",
      "Openning file... ./sequenced-wav-files/ang3.wav\n",
      "Openning file... ./sequenced-wav-files/ang4.wav\n",
      "Openning file... ./sequenced-wav-files/ang5.wav\n",
      "Openning file... ./sequenced-wav-files/ang6.wav\n",
      "Openning file... ./sequenced-wav-files/ang7.wav\n",
      "Openning file... ./sequenced-wav-files/ang8.wav\n",
      "Openning file... ./sequenced-wav-files/ang9.wav\n",
      "Openning file... ./sequenced-wav-files/ang10.wav\n"
     ]
    }
   ],
   "source": [
    "import numpy as np\n",
    "import soundfile as sf\n",
    "\n",
    "amnt_sf = 10\n",
    "prefix_word = 'ang'\n",
    "path = './sequenced-wav-files/'\n",
    "\n",
    "for i in np.arange(amnt_sf):\n",
    "    file_in = path+prefix_word+str(i+1)+'.wav'\n",
    "    print('Openning file...', file_in)\n",
    "    data_sf, sr_sf = sf.read(file_in)\n",
    "    duration_sf = len(data_sf)/sr_sf # for information\n",
    "    # print('File: %s \\nSampling Rate: %d Hz \\nDuration: %4.4f s \\n\\n' % (prefix_word+str(i+1), sr_sf, duration_sf))  "
   ]
  }
 ],
 "metadata": {
  "kernelspec": {
   "display_name": "base",
   "language": "python",
   "name": "python3"
  },
  "language_info": {
   "codemirror_mode": {
    "name": "ipython",
    "version": 3
   },
   "file_extension": ".py",
   "mimetype": "text/x-python",
   "name": "python",
   "nbconvert_exporter": "python",
   "pygments_lexer": "ipython3",
   "version": "3.9.12"
  },
  "orig_nbformat": 4,
  "vscode": {
   "interpreter": {
    "hash": "2b315b238527074b48ede1db88856294695fedbd9a1befcadf019011d6f4a552"
   }
  }
 },
 "nbformat": 4,
 "nbformat_minor": 2
}
