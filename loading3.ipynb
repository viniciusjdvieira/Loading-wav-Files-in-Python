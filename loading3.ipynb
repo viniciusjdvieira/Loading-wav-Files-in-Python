{
 "cells": [
  {
   "attachments": {},
   "cell_type": "markdown",
   "metadata": {},
   "source": [
    "### Importing Arbitrary files from a directory\n",
    "In this case, any WAV file can be read."
   ]
  },
  {
   "cell_type": "code",
   "execution_count": 4,
   "metadata": {},
   "outputs": [
    {
     "name": "stdout",
     "output_type": "stream",
     "text": [
      "Openning file... AplausosV11025.wav\n",
      "Openning file... AplausosV22050.wav\n",
      "Openning file... AplausosV44100.wav\n",
      "Openning file... AplausosV8000.wav\n",
      "Openning file... VogalA11025.wav\n",
      "Openning file... VogalE11025.wav\n",
      "Openning file... VogalI11025.wav\n",
      "Openning file... VogalO11025.wav\n",
      "Openning file... VogalU11025.wav\n"
     ]
    }
   ],
   "source": [
    "import glob\n",
    "import numpy as np\n",
    "import soundfile as sf\n",
    "\n",
    "\n",
    "path = './arbritary-wav-files/'\n",
    "files = glob.glob(path+'*.wav')\n",
    "amnt_files = len(files)\n",
    "\n",
    "for i in np.arange(amnt_files):\n",
    "    file_in = files[i]\n",
    "    name_file = file_in.split('\\\\')[1]\n",
    "    print('Openning file...', name_file)\n",
    "    data_sf, sr_sf = sf.read(file_in)\n",
    "    duration_sf = len(data_sf)/sr_sf # for information\n",
    "    # print('File: %s \\nSampling Rate: %d Hz \\nDuration: %4.4f s \\n\\n' % (name_file, sr_sf, duration_sf))  "
   ]
  }
 ],
 "metadata": {
  "kernelspec": {
   "display_name": "base",
   "language": "python",
   "name": "python3"
  },
  "language_info": {
   "codemirror_mode": {
    "name": "ipython",
    "version": 3
   },
   "file_extension": ".py",
   "mimetype": "text/x-python",
   "name": "python",
   "nbconvert_exporter": "python",
   "pygments_lexer": "ipython3",
   "version": "3.9.12 (main, Apr  4 2022, 05:22:27) [MSC v.1916 64 bit (AMD64)]"
  },
  "orig_nbformat": 4,
  "vscode": {
   "interpreter": {
    "hash": "2b315b238527074b48ede1db88856294695fedbd9a1befcadf019011d6f4a552"
   }
  }
 },
 "nbformat": 4,
 "nbformat_minor": 2
}
